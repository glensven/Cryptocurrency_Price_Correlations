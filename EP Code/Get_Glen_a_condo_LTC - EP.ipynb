{
 "cells": [
  {
   "cell_type": "code",
   "execution_count": 2,
   "metadata": {},
   "outputs": [
    {
     "name": "stdout",
     "output_type": "stream",
     "text": [
      "\n",
      "Note: you may need to restart the kernel to use updated packages.\n"
     ]
    }
   ],
   "source": [
    "conda activate alpacaenv"
   ]
  },
  {
   "cell_type": "code",
   "execution_count": 23,
   "metadata": {},
   "outputs": [],
   "source": [
    "# Import Libraries\n",
    "import os\n",
    "import requests\n",
    "import pandas as pd\n",
    "from dotenv import load_dotenv\n",
    "import json\n",
    "\n",
    "%matplotlib inline\n"
   ]
  },
  {
   "cell_type": "code",
   "execution_count": 24,
   "metadata": {},
   "outputs": [
    {
     "data": {
      "text/plain": [
       "True"
      ]
     },
     "execution_count": 24,
     "metadata": {},
     "output_type": "execute_result"
    }
   ],
   "source": [
    "# Laod .env environment\n",
    "load_dotenv()\n"
   ]
  },
  {
   "cell_type": "code",
   "execution_count": 25,
   "metadata": {},
   "outputs": [
    {
     "data": {
      "text/plain": [
       "str"
      ]
     },
     "execution_count": 25,
     "metadata": {},
     "output_type": "execute_result"
    }
   ],
   "source": [
    "# Pull in API Key\n",
    "api_key = os.getenv(\"glassnode_api\")\n",
    "type(api_key)\n"
   ]
  },
  {
   "cell_type": "code",
   "execution_count": 26,
   "metadata": {},
   "outputs": [],
   "source": [
    "# Define crypto currencies to pull\n",
    "crypto_list = [\"BTC\", \"BCH\", \"ETH\", \"LTC\", \"USDT\", \"DOGE\"]\n"
   ]
  },
  {
   "cell_type": "code",
   "execution_count": 33,
   "metadata": {},
   "outputs": [],
   "source": [
    "# Define URLs\n",
    "price_url = 'https://api.glassnode.com/v1/metrics/market/price_usd'\n",
    "volume_url = 'https://api.glassnode.com/v1/metrics/transactions/transfers_volume_sum'\n",
    "mkt_cap_url = 'https://api.glassnode.com/v1/metrics/market/marketcap_usd'\n",
    "mining_url = 'https://api.glassnode.com/v1/metrics/mining/volume_mined_sum'\n",
    "exchange_fee_url = 'https://api.glassnode.com/v1/metrics/fees/exchanges_sum'\n"
   ]
  },
  {
   "cell_type": "markdown",
   "metadata": {},
   "source": [
    "## LTC API Data Pull"
   ]
  },
  {
   "cell_type": "code",
   "execution_count": 35,
   "metadata": {},
   "outputs": [],
   "source": [
    "# Price API Request\n",
    "ltc_price_res = requests.get(price_url,\n",
    "                      params={'a': 'LTC',\n",
    "                              'i': '24h',\n",
    "                              'api_key': api_key})\n",
    "\n",
    "\n",
    "# Convert price to Pandas Dataframe, set index to time and clean up file\n",
    "ltc_price_df = pd.read_json(ltc_price_res.text, convert_dates=['t'])\n",
    "ltc_price_df.columns = ['Date', 'Price']\n",
    "ltc_price_df.set_index('Date', inplace=True) \n",
    "\n",
    "\n",
    "# Volume API Request\n",
    "ltc_volume_res = requests.get(volume_url,\n",
    "                      params={'a': 'LTC',\n",
    "                              'i': '24h',\n",
    "                              'api_key': api_key})\n",
    "\n",
    "\n",
    "# Convert volume to Pandas Dataframe, set index to time and clean up file\n",
    "ltc_volume_df = pd.read_json(ltc_volume_res.text, convert_dates=['t'])\n",
    "ltc_volume_df.columns = ['Date', 'Volume']\n",
    "ltc_volume_df.set_index('Date', inplace=True)\n",
    "\n",
    "\n",
    "\n",
    "# Market Cap API Request\n",
    "ltc_mkt_cap_res = requests.get(mkt_cap_url,\n",
    "                      params={'a': 'LTC',\n",
    "                              'i': '24h',\n",
    "                              'api_key': api_key})\n",
    "\n",
    "\n",
    "# Convert Market Cap to Pandas Dataframe, set index to time and clean up file\n",
    "ltc_mkt_cap_df = pd.read_json(ltc_mkt_cap_res.text, convert_dates=['t'])\n",
    "ltc_mkt_cap_df.columns = ['Date', 'Market Cap']\n",
    "ltc_mkt_cap_df.set_index('Date', inplace=True)\n",
    "\n",
    "\n",
    "\n",
    "# Mining API Request\n",
    "ltc_mining_res = requests.get(mining_url,\n",
    "                      params={'a': 'LTC',\n",
    "                              'i': '24h',\n",
    "                              'api_key': api_key})\n",
    "\n",
    "\n",
    "# Convert Mining to Pandas Dataframe, set index to time and clean up file\n",
    "# ltc_mining_df = pd.read_json(ltc_mining_res.text, convert_dates=['t'])\n",
    "# ltc_mining_df.head(5)"
   ]
  },
  {
   "cell_type": "code",
   "execution_count": null,
   "metadata": {},
   "outputs": [],
   "source": [
    "# ltc_mining_df.columns = [['Date'],['Blocks Mined']]\n",
    "# ltc_mining_df.set_index('Date', inplace=True)\n"
   ]
  },
  {
   "cell_type": "code",
   "execution_count": 29,
   "metadata": {},
   "outputs": [
    {
     "data": {
      "text/html": [
       "<div>\n",
       "<style scoped>\n",
       "    .dataframe tbody tr th:only-of-type {\n",
       "        vertical-align: middle;\n",
       "    }\n",
       "\n",
       "    .dataframe tbody tr th {\n",
       "        vertical-align: top;\n",
       "    }\n",
       "\n",
       "    .dataframe thead th {\n",
       "        text-align: right;\n",
       "    }\n",
       "</style>\n",
       "<table border=\"1\" class=\"dataframe\">\n",
       "  <thead>\n",
       "    <tr style=\"text-align: right;\">\n",
       "      <th></th>\n",
       "      <th>Price</th>\n",
       "    </tr>\n",
       "    <tr>\n",
       "      <th>Date</th>\n",
       "      <th></th>\n",
       "    </tr>\n",
       "  </thead>\n",
       "  <tbody>\n",
       "    <tr>\n",
       "      <th>2013-05-19</th>\n",
       "      <td>3.1491</td>\n",
       "    </tr>\n",
       "    <tr>\n",
       "      <th>2013-05-20</th>\n",
       "      <td>NaN</td>\n",
       "    </tr>\n",
       "    <tr>\n",
       "      <th>2013-05-21</th>\n",
       "      <td>NaN</td>\n",
       "    </tr>\n",
       "    <tr>\n",
       "      <th>2013-05-22</th>\n",
       "      <td>3.0600</td>\n",
       "    </tr>\n",
       "    <tr>\n",
       "      <th>2013-05-23</th>\n",
       "      <td>3.0500</td>\n",
       "    </tr>\n",
       "  </tbody>\n",
       "</table>\n",
       "</div>"
      ],
      "text/plain": [
       "             Price\n",
       "Date              \n",
       "2013-05-19  3.1491\n",
       "2013-05-20     NaN\n",
       "2013-05-21     NaN\n",
       "2013-05-22  3.0600\n",
       "2013-05-23  3.0500"
      ]
     },
     "execution_count": 29,
     "metadata": {},
     "output_type": "execute_result"
    }
   ],
   "source": [
    "ltc_price_df.head(5)"
   ]
  },
  {
   "cell_type": "code",
   "execution_count": 30,
   "metadata": {},
   "outputs": [
    {
     "data": {
      "text/html": [
       "<div>\n",
       "<style scoped>\n",
       "    .dataframe tbody tr th:only-of-type {\n",
       "        vertical-align: middle;\n",
       "    }\n",
       "\n",
       "    .dataframe tbody tr th {\n",
       "        vertical-align: top;\n",
       "    }\n",
       "\n",
       "    .dataframe thead th {\n",
       "        text-align: right;\n",
       "    }\n",
       "</style>\n",
       "<table border=\"1\" class=\"dataframe\">\n",
       "  <thead>\n",
       "    <tr style=\"text-align: right;\">\n",
       "      <th></th>\n",
       "      <th>Volume</th>\n",
       "    </tr>\n",
       "    <tr>\n",
       "      <th>Date</th>\n",
       "      <th></th>\n",
       "    </tr>\n",
       "  </thead>\n",
       "  <tbody>\n",
       "    <tr>\n",
       "      <th>2011-10-13</th>\n",
       "      <td>44199.477500</td>\n",
       "    </tr>\n",
       "    <tr>\n",
       "      <th>2011-10-14</th>\n",
       "      <td>22518.380483</td>\n",
       "    </tr>\n",
       "    <tr>\n",
       "      <th>2011-10-15</th>\n",
       "      <td>30682.842066</td>\n",
       "    </tr>\n",
       "    <tr>\n",
       "      <th>2011-10-16</th>\n",
       "      <td>199192.706085</td>\n",
       "    </tr>\n",
       "    <tr>\n",
       "      <th>2011-10-17</th>\n",
       "      <td>91493.403856</td>\n",
       "    </tr>\n",
       "  </tbody>\n",
       "</table>\n",
       "</div>"
      ],
      "text/plain": [
       "                   Volume\n",
       "Date                     \n",
       "2011-10-13   44199.477500\n",
       "2011-10-14   22518.380483\n",
       "2011-10-15   30682.842066\n",
       "2011-10-16  199192.706085\n",
       "2011-10-17   91493.403856"
      ]
     },
     "execution_count": 30,
     "metadata": {},
     "output_type": "execute_result"
    }
   ],
   "source": [
    "ltc_volume_df.head(5)"
   ]
  },
  {
   "cell_type": "code",
   "execution_count": 31,
   "metadata": {},
   "outputs": [
    {
     "data": {
      "text/html": [
       "<div>\n",
       "<style scoped>\n",
       "    .dataframe tbody tr th:only-of-type {\n",
       "        vertical-align: middle;\n",
       "    }\n",
       "\n",
       "    .dataframe tbody tr th {\n",
       "        vertical-align: top;\n",
       "    }\n",
       "\n",
       "    .dataframe thead th {\n",
       "        text-align: right;\n",
       "    }\n",
       "</style>\n",
       "<table border=\"1\" class=\"dataframe\">\n",
       "  <thead>\n",
       "    <tr style=\"text-align: right;\">\n",
       "      <th></th>\n",
       "      <th>Market Cap</th>\n",
       "    </tr>\n",
       "    <tr>\n",
       "      <th>Date</th>\n",
       "      <th></th>\n",
       "    </tr>\n",
       "  </thead>\n",
       "  <tbody>\n",
       "    <tr>\n",
       "      <th>2013-05-19</th>\n",
       "      <td>5.601635e+07</td>\n",
       "    </tr>\n",
       "    <tr>\n",
       "      <th>2013-05-20</th>\n",
       "      <td>5.610263e+07</td>\n",
       "    </tr>\n",
       "    <tr>\n",
       "      <th>2013-05-21</th>\n",
       "      <td>5.618734e+07</td>\n",
       "    </tr>\n",
       "    <tr>\n",
       "      <th>2013-05-22</th>\n",
       "      <td>5.344536e+07</td>\n",
       "    </tr>\n",
       "    <tr>\n",
       "      <th>2013-05-23</th>\n",
       "      <td>5.859215e+07</td>\n",
       "    </tr>\n",
       "  </tbody>\n",
       "</table>\n",
       "</div>"
      ],
      "text/plain": [
       "              Market Cap\n",
       "Date                    \n",
       "2013-05-19  5.601635e+07\n",
       "2013-05-20  5.610263e+07\n",
       "2013-05-21  5.618734e+07\n",
       "2013-05-22  5.344536e+07\n",
       "2013-05-23  5.859215e+07"
      ]
     },
     "execution_count": 31,
     "metadata": {},
     "output_type": "execute_result"
    }
   ],
   "source": [
    "ltc_mkt_cap_df.head(5)"
   ]
  },
  {
   "cell_type": "code",
   "execution_count": 32,
   "metadata": {},
   "outputs": [
    {
     "data": {
      "text/html": [
       "<div>\n",
       "<style scoped>\n",
       "    .dataframe tbody tr th:only-of-type {\n",
       "        vertical-align: middle;\n",
       "    }\n",
       "\n",
       "    .dataframe tbody tr th {\n",
       "        vertical-align: top;\n",
       "    }\n",
       "\n",
       "    .dataframe thead th {\n",
       "        text-align: right;\n",
       "    }\n",
       "</style>\n",
       "<table border=\"1\" class=\"dataframe\">\n",
       "  <thead>\n",
       "    <tr style=\"text-align: right;\">\n",
       "      <th></th>\n",
       "    </tr>\n",
       "  </thead>\n",
       "  <tbody>\n",
       "  </tbody>\n",
       "</table>\n",
       "</div>"
      ],
      "text/plain": [
       "Empty DataFrame\n",
       "Columns: []\n",
       "Index: []"
      ]
     },
     "execution_count": 32,
     "metadata": {},
     "output_type": "execute_result"
    }
   ],
   "source": [
    "ltc_mining_df.head(5)"
   ]
  },
  {
   "cell_type": "markdown",
   "metadata": {},
   "source": [
    "## LTC Data Aggregating & Cleaning"
   ]
  },
  {
   "cell_type": "code",
   "execution_count": 14,
   "metadata": {},
   "outputs": [
    {
     "data": {
      "text/html": [
       "<div>\n",
       "<style scoped>\n",
       "    .dataframe tbody tr th:only-of-type {\n",
       "        vertical-align: middle;\n",
       "    }\n",
       "\n",
       "    .dataframe tbody tr th {\n",
       "        vertical-align: top;\n",
       "    }\n",
       "\n",
       "    .dataframe thead th {\n",
       "        text-align: right;\n",
       "    }\n",
       "</style>\n",
       "<table border=\"1\" class=\"dataframe\">\n",
       "  <thead>\n",
       "    <tr style=\"text-align: right;\">\n",
       "      <th></th>\n",
       "      <th>Price</th>\n",
       "      <th>Volume</th>\n",
       "      <th>Market Cap</th>\n",
       "    </tr>\n",
       "    <tr>\n",
       "      <th>Date</th>\n",
       "      <th></th>\n",
       "      <th></th>\n",
       "      <th></th>\n",
       "    </tr>\n",
       "  </thead>\n",
       "  <tbody>\n",
       "    <tr>\n",
       "      <th>2011-10-13</th>\n",
       "      <td>NaN</td>\n",
       "      <td>4.419948e+04</td>\n",
       "      <td>NaN</td>\n",
       "    </tr>\n",
       "    <tr>\n",
       "      <th>2011-10-14</th>\n",
       "      <td>NaN</td>\n",
       "      <td>2.251838e+04</td>\n",
       "      <td>NaN</td>\n",
       "    </tr>\n",
       "    <tr>\n",
       "      <th>2011-10-15</th>\n",
       "      <td>NaN</td>\n",
       "      <td>3.068284e+04</td>\n",
       "      <td>NaN</td>\n",
       "    </tr>\n",
       "    <tr>\n",
       "      <th>2011-10-16</th>\n",
       "      <td>NaN</td>\n",
       "      <td>1.991927e+05</td>\n",
       "      <td>NaN</td>\n",
       "    </tr>\n",
       "    <tr>\n",
       "      <th>2011-10-17</th>\n",
       "      <td>NaN</td>\n",
       "      <td>9.149340e+04</td>\n",
       "      <td>NaN</td>\n",
       "    </tr>\n",
       "    <tr>\n",
       "      <th>...</th>\n",
       "      <td>...</td>\n",
       "      <td>...</td>\n",
       "      <td>...</td>\n",
       "    </tr>\n",
       "    <tr>\n",
       "      <th>2021-03-06</th>\n",
       "      <td>182.979153</td>\n",
       "      <td>8.520895e+06</td>\n",
       "      <td>1.213505e+10</td>\n",
       "    </tr>\n",
       "    <tr>\n",
       "      <th>2021-03-07</th>\n",
       "      <td>191.731806</td>\n",
       "      <td>9.421075e+06</td>\n",
       "      <td>1.250725e+10</td>\n",
       "    </tr>\n",
       "    <tr>\n",
       "      <th>2021-03-08</th>\n",
       "      <td>192.277042</td>\n",
       "      <td>1.122435e+07</td>\n",
       "      <td>1.256272e+10</td>\n",
       "    </tr>\n",
       "    <tr>\n",
       "      <th>2021-03-09</th>\n",
       "      <td>203.534055</td>\n",
       "      <td>9.136896e+06</td>\n",
       "      <td>1.332376e+10</td>\n",
       "    </tr>\n",
       "    <tr>\n",
       "      <th>2021-03-10</th>\n",
       "      <td>200.247837</td>\n",
       "      <td>NaN</td>\n",
       "      <td>NaN</td>\n",
       "    </tr>\n",
       "  </tbody>\n",
       "</table>\n",
       "<p>3437 rows × 3 columns</p>\n",
       "</div>"
      ],
      "text/plain": [
       "                 Price        Volume    Market Cap\n",
       "Date                                              \n",
       "2011-10-13         NaN  4.419948e+04           NaN\n",
       "2011-10-14         NaN  2.251838e+04           NaN\n",
       "2011-10-15         NaN  3.068284e+04           NaN\n",
       "2011-10-16         NaN  1.991927e+05           NaN\n",
       "2011-10-17         NaN  9.149340e+04           NaN\n",
       "...                ...           ...           ...\n",
       "2021-03-06  182.979153  8.520895e+06  1.213505e+10\n",
       "2021-03-07  191.731806  9.421075e+06  1.250725e+10\n",
       "2021-03-08  192.277042  1.122435e+07  1.256272e+10\n",
       "2021-03-09  203.534055  9.136896e+06  1.332376e+10\n",
       "2021-03-10  200.247837           NaN           NaN\n",
       "\n",
       "[3437 rows x 3 columns]"
      ]
     },
     "execution_count": 14,
     "metadata": {},
     "output_type": "execute_result"
    }
   ],
   "source": [
    "# Define all the different data frames into a list\n",
    "ltc_frames = [ltc_price_df, ltc_volume_df, ltc_mkt_cap_df, ltc_mining_df]\n",
    "\n",
    "# Concatenate all the dataframes into one\n",
    "ltc_data = pd.concat(ltc_frames, axis=1, join=\"outer\", ignore_index=False)\n",
    "ltc_data\n"
   ]
  },
  {
   "cell_type": "code",
   "execution_count": null,
   "metadata": {},
   "outputs": [],
   "source": [
    "EP"
   ]
  }
 ],
 "metadata": {
  "kernelspec": {
   "display_name": "Python [conda env:alpacaenv]",
   "language": "python",
   "name": "conda-env-alpacaenv-py"
  },
  "language_info": {
   "codemirror_mode": {
    "name": "ipython",
    "version": 3
   },
   "file_extension": ".py",
   "mimetype": "text/x-python",
   "name": "python",
   "nbconvert_exporter": "python",
   "pygments_lexer": "ipython3",
   "version": "3.7.9"
  }
 },
 "nbformat": 4,
 "nbformat_minor": 5
}
