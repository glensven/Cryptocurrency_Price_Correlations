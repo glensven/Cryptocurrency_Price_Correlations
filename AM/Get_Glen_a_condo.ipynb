{
 "cells": [
  {
   "cell_type": "code",
   "execution_count": 1,
   "metadata": {},
   "outputs": [
    {
     "name": "stdout",
     "output_type": "stream",
     "text": [
      "\n",
      "Note: you may need to restart the kernel to use updated packages.\n"
     ]
    }
   ],
   "source": [
    "conda activate pyvizenv"
   ]
  },
  {
   "cell_type": "code",
   "execution_count": 2,
   "metadata": {},
   "outputs": [],
   "source": [
    "# Import Libraries\n",
    "import os\n",
    "import requests\n",
    "import pandas as pd\n",
    "from dotenv import load_dotenv\n",
    "import json\n",
    "import panel as pn\n",
    "import hvplot.pandas\n",
    "import matplotlib.pyplot as plt\n",
    "import numpy as np\n",
    "from pathlib import Path\n",
    "pn.extension('plotly')\n",
    "import plotly.express as px\n",
    "\n",
    "%matplotlib inline\n",
    "import warnings\n",
    "warnings.filterwarnings('ignore')\n"
   ]
  },
  {
   "cell_type": "code",
   "execution_count": 3,
   "metadata": {},
   "outputs": [
    {
     "data": {
      "text/plain": [
       "True"
      ]
     },
     "execution_count": 3,
     "metadata": {},
     "output_type": "execute_result"
    }
   ],
   "source": [
    "# Laod .env environment\n",
    "load_dotenv()\n"
   ]
  },
  {
   "cell_type": "code",
   "execution_count": 4,
   "metadata": {},
   "outputs": [
    {
     "data": {
      "text/plain": [
       "str"
      ]
     },
     "execution_count": 4,
     "metadata": {},
     "output_type": "execute_result"
    }
   ],
   "source": [
    "# Pull in API Key\n",
    "api_key = os.getenv(\"glassnode_api\")\n",
    "type(api_key)\n"
   ]
  },
  {
   "cell_type": "code",
   "execution_count": 5,
   "metadata": {},
   "outputs": [],
   "source": [
    "# Define crypto currencies to pull\n",
    "crypto_list = [\"BTC\", \"BCH\", \"ETH\", \"LTC\", \"USDT\", \"DOGE\"]\n"
   ]
  },
  {
   "cell_type": "code",
   "execution_count": 6,
   "metadata": {},
   "outputs": [],
   "source": [
    "# Define Market URLs\n",
    "price_url = 'https://api.glassnode.com/v1/metrics/market/price_usd'\n",
    "volume_url = 'https://api.glassnode.com/v1/metrics/transactions/transfers_volume_sum'\n",
    "mkt_cap_url = 'https://api.glassnode.com/v1/metrics/market/marketcap_usd'\n",
    "\n",
    "# Define Demand URLs\n",
    "total_addresses_url = 'https://api.glassnode.com/v1/metrics/addresses/count'\n",
    "sending_addresses_url = 'https://api.glassnode.com/v1/metrics/addresses/sending_count'\n",
    "receiving_addresses_url = 'https://api.glassnode.com/v1/metrics/addresses/receiving_count'\n",
    "active_addresses_url = 'https://api.glassnode.com/v1/metrics/addresses/active_count'\n",
    "transactions_url = 'https://api.glassnode.com/v1/metrics/transactions/count'\n",
    "\n",
    "# Define Supply URLs\n",
    "circulating_supply_url = 'https://api.glassnode.com/v1/metrics/supply/current'\n",
    "\n",
    "# Define Mining Revenue URLs\n",
    "mining_revenue_sum_url = 'https://api.glassnode.com/v1/metrics/mining/revenue_sum'\n",
    "\n",
    "# Define Indicator URLs\n",
    "rhodl_ratio_url = 'https://api.glassnode.com/v1/metrics/indicators/rhodl_ratio'\n"
   ]
  },
  {
   "cell_type": "markdown",
   "metadata": {},
   "source": [
    "## BTC API Data Pull"
   ]
  },
  {
   "cell_type": "code",
   "execution_count": 9,
   "metadata": {},
   "outputs": [],
   "source": [
    "# Price API Request\n",
    "btc_price_res = requests.get(price_url,\n",
    "                      params={'a': 'BTC',\n",
    "                              'i': '24h',\n",
    "                              'api_key': api_key})\n",
    "\n",
    "\n",
    "# Convert price to Pandas Dataframe, set index to time and clean up file\n",
    "btc_price_df = pd.read_json(btc_price_res.text, convert_dates=['t'])\n",
    "btc_price_df.columns = ['Date', 'Price']\n",
    "btc_price_df.set_index('Date', inplace=True) \n",
    "\n",
    "\n",
    "# Volume API Request\n",
    "btc_volume_res = requests.get(volume_url,\n",
    "                      params={'a': 'BTC',\n",
    "                              'i': '24h',\n",
    "                              'api_key': api_key})\n",
    "\n",
    "\n",
    "# Convert volume to Pandas Dataframe, set index to time and clean up file\n",
    "btc_volume_df = pd.read_json(btc_volume_res.text, convert_dates=['t'])\n",
    "btc_volume_df.columns = ['Date', 'Volume']\n",
    "btc_volume_df.set_index('Date', inplace=True)\n",
    "\n",
    "\n",
    "\n",
    "# Market Cap API Request\n",
    "btc_mkt_cap_res = requests.get(mkt_cap_url,\n",
    "                      params={'a': 'BTC',\n",
    "                              'i': '24h',\n",
    "                              'api_key': api_key})\n",
    "\n",
    "\n",
    "# Convert Market Cap to Pandas Dataframe, set index to time and clean up file\n",
    "btc_mkt_cap_df = pd.read_json(btc_mkt_cap_res.text, convert_dates=['t'])\n",
    "btc_mkt_cap_df.columns = ['Date', 'Market Cap']\n",
    "btc_mkt_cap_df.set_index('Date', inplace=True)\n",
    "\n",
    "\n",
    "\n",
    "# Mining API Request\n",
    "btc_mining_res = requests.get(mining_url,\n",
    "                      params={'a': 'BTC',\n",
    "                              'i': '24h',\n",
    "                              'api_key': api_key})\n",
    "\n",
    "\n",
    "# Convert Mining to Pandas Dataframe, set index to time and clean up file\n",
    "btc_mining_df = pd.read_json(btc_mining_res.text, convert_dates=['t'])\n",
    "btc_mining_df.columns = ['Date', 'Blocks Mined']\n",
    "btc_mining_df.set_index('Date', inplace=True)\n",
    "\n",
    "\n"
   ]
  },
  {
   "cell_type": "markdown",
   "metadata": {},
   "source": [
    "## BTC Data Table Debugging Cells"
   ]
  },
  {
   "cell_type": "code",
   "execution_count": null,
   "metadata": {},
   "outputs": [],
   "source": [
    "#btc_price_df"
   ]
  },
  {
   "cell_type": "code",
   "execution_count": null,
   "metadata": {},
   "outputs": [],
   "source": [
    "#btc_volume_df"
   ]
  },
  {
   "cell_type": "code",
   "execution_count": null,
   "metadata": {},
   "outputs": [],
   "source": [
    "#btc_mkt_cap_df"
   ]
  },
  {
   "cell_type": "code",
   "execution_count": null,
   "metadata": {},
   "outputs": [],
   "source": [
    "#btc_mining_df"
   ]
  },
  {
   "cell_type": "markdown",
   "metadata": {},
   "source": [
    "## BTC Data Aggregating & Cleaning"
   ]
  },
  {
   "cell_type": "code",
   "execution_count": 8,
   "metadata": {},
   "outputs": [
    {
     "data": {
      "text/html": [
       "<div>\n",
       "<style scoped>\n",
       "    .dataframe tbody tr th:only-of-type {\n",
       "        vertical-align: middle;\n",
       "    }\n",
       "\n",
       "    .dataframe tbody tr th {\n",
       "        vertical-align: top;\n",
       "    }\n",
       "\n",
       "    .dataframe thead th {\n",
       "        text-align: right;\n",
       "    }\n",
       "</style>\n",
       "<table border=\"1\" class=\"dataframe\">\n",
       "  <thead>\n",
       "    <tr style=\"text-align: right;\">\n",
       "      <th></th>\n",
       "      <th>Price</th>\n",
       "      <th>Volume</th>\n",
       "      <th>Market Cap</th>\n",
       "      <th>Blocks Mined</th>\n",
       "    </tr>\n",
       "    <tr>\n",
       "      <th>Date</th>\n",
       "      <th></th>\n",
       "      <th></th>\n",
       "      <th></th>\n",
       "      <th></th>\n",
       "    </tr>\n",
       "  </thead>\n",
       "  <tbody>\n",
       "    <tr>\n",
       "      <th>2009-01-03</th>\n",
       "      <td>NaN</td>\n",
       "      <td>0.000000e+00</td>\n",
       "      <td>NaN</td>\n",
       "      <td>50.0</td>\n",
       "    </tr>\n",
       "    <tr>\n",
       "      <th>2009-01-04</th>\n",
       "      <td>NaN</td>\n",
       "      <td>0.000000e+00</td>\n",
       "      <td>NaN</td>\n",
       "      <td>0.0</td>\n",
       "    </tr>\n",
       "    <tr>\n",
       "      <th>2009-01-05</th>\n",
       "      <td>NaN</td>\n",
       "      <td>0.000000e+00</td>\n",
       "      <td>NaN</td>\n",
       "      <td>0.0</td>\n",
       "    </tr>\n",
       "    <tr>\n",
       "      <th>2009-01-06</th>\n",
       "      <td>NaN</td>\n",
       "      <td>0.000000e+00</td>\n",
       "      <td>NaN</td>\n",
       "      <td>0.0</td>\n",
       "    </tr>\n",
       "    <tr>\n",
       "      <th>2009-01-07</th>\n",
       "      <td>NaN</td>\n",
       "      <td>0.000000e+00</td>\n",
       "      <td>NaN</td>\n",
       "      <td>0.0</td>\n",
       "    </tr>\n",
       "    <tr>\n",
       "      <th>...</th>\n",
       "      <td>...</td>\n",
       "      <td>...</td>\n",
       "      <td>...</td>\n",
       "      <td>...</td>\n",
       "    </tr>\n",
       "    <tr>\n",
       "      <th>2021-03-05</th>\n",
       "      <td>48915.789595</td>\n",
       "      <td>1.778679e+06</td>\n",
       "      <td>8.907451e+11</td>\n",
       "      <td>NaN</td>\n",
       "    </tr>\n",
       "    <tr>\n",
       "      <th>2021-03-06</th>\n",
       "      <td>48905.879870</td>\n",
       "      <td>1.531900e+06</td>\n",
       "      <td>9.026353e+11</td>\n",
       "      <td>NaN</td>\n",
       "    </tr>\n",
       "    <tr>\n",
       "      <th>2021-03-07</th>\n",
       "      <td>51282.113699</td>\n",
       "      <td>2.130187e+06</td>\n",
       "      <td>9.363218e+11</td>\n",
       "      <td>NaN</td>\n",
       "    </tr>\n",
       "    <tr>\n",
       "      <th>2021-03-08</th>\n",
       "      <td>52307.860713</td>\n",
       "      <td>1.959105e+06</td>\n",
       "      <td>9.472894e+11</td>\n",
       "      <td>NaN</td>\n",
       "    </tr>\n",
       "    <tr>\n",
       "      <th>2021-03-09</th>\n",
       "      <td>52111.474920</td>\n",
       "      <td>NaN</td>\n",
       "      <td>NaN</td>\n",
       "      <td>NaN</td>\n",
       "    </tr>\n",
       "  </tbody>\n",
       "</table>\n",
       "<p>4449 rows × 4 columns</p>\n",
       "</div>"
      ],
      "text/plain": [
       "                   Price        Volume    Market Cap  Blocks Mined\n",
       "Date                                                              \n",
       "2009-01-03           NaN  0.000000e+00           NaN          50.0\n",
       "2009-01-04           NaN  0.000000e+00           NaN           0.0\n",
       "2009-01-05           NaN  0.000000e+00           NaN           0.0\n",
       "2009-01-06           NaN  0.000000e+00           NaN           0.0\n",
       "2009-01-07           NaN  0.000000e+00           NaN           0.0\n",
       "...                  ...           ...           ...           ...\n",
       "2021-03-05  48915.789595  1.778679e+06  8.907451e+11           NaN\n",
       "2021-03-06  48905.879870  1.531900e+06  9.026353e+11           NaN\n",
       "2021-03-07  51282.113699  2.130187e+06  9.363218e+11           NaN\n",
       "2021-03-08  52307.860713  1.959105e+06  9.472894e+11           NaN\n",
       "2021-03-09  52111.474920           NaN           NaN           NaN\n",
       "\n",
       "[4449 rows x 4 columns]"
      ]
     },
     "execution_count": 8,
     "metadata": {},
     "output_type": "execute_result"
    }
   ],
   "source": [
    "# Define all the different data frames into a list\n",
    "btc_frames = [btc_price_df, btc_volume_df, btc_mkt_cap_df, btc_mining_df]\n",
    "\n",
    "# Concatenate all the dataframes into one\n",
    "btc_data = pd.concat(btc_frames, axis=1, join=\"outer\", ignore_index=False)\n",
    "btc_data\n"
   ]
  },
  {
   "cell_type": "markdown",
   "metadata": {},
   "source": [
    "## LTC API Data Pull"
   ]
  },
  {
   "cell_type": "code",
   "execution_count": null,
   "metadata": {},
   "outputs": [],
   "source": [
    "# Price API Request\n",
    "ltc_price_res = requests.get(price_url,\n",
    "                      params={'a': 'LTC',\n",
    "                              'i': '24h',\n",
    "                              'api_key': api_key})\n",
    "\n",
    "\n",
    "# Convert price to Pandas Dataframe, set index to time and clean up file\n",
    "ltc_price_df = pd.read_json(ltc_price_res.text, convert_dates=['t'])\n",
    "ltc_price_df.columns = ['Date', 'Price']\n",
    "ltc_price_df.set_index('Date', inplace=True) \n",
    "\n",
    "\n",
    "# Volume API Request\n",
    "ltc_volume_res = requests.get(volume_url,\n",
    "                      params={'a': 'LTC',\n",
    "                              'i': '24h',\n",
    "                              'api_key': api_key})\n",
    "\n",
    "\n",
    "# Convert volume to Pandas Dataframe, set index to time and clean up file\n",
    "ltc_volume_df = pd.read_json(ltc_volume_res.text, convert_dates=['t'])\n",
    "ltc_volume_df.columns = ['Date', 'Volume']\n",
    "ltc_volume_df.set_index('Date', inplace=True)\n",
    "\n",
    "\n",
    "\n",
    "# Market Cap API Request\n",
    "ltc_mkt_cap_res = requests.get(mkt_cap_url,\n",
    "                      params={'a': 'LTC',\n",
    "                              'i': '24h',\n",
    "                              'api_key': api_key})\n",
    "\n",
    "\n",
    "# Convert Market Cap to Pandas Dataframe, set index to time and clean up file\n",
    "ltc_mkt_cap_df = pd.read_json(ltc_mkt_cap_res.text, convert_dates=['t'])\n",
    "ltc_mkt_cap_df.columns = ['Date', 'Market Cap']\n",
    "ltc_mkt_cap_df.set_index('Date', inplace=True)\n",
    "\n",
    "\n",
    "\n",
    "# Mining API Request\n",
    "ltc_mining_res = requests.get(mining_url,\n",
    "                      params={'a': 'LTC',\n",
    "                              'i': '24h',\n",
    "                              'api_key': api_key})\n",
    "\n",
    "\n",
    "# Convert Mining to Pandas Dataframe, set index to time and clean up file\n",
    "# ltc_mining_df = pd.read_json(ltc_mining_res.text, convert_dates=['t'])\n",
    "# ltc_mining_df.head(5)\n",
    "# ltc_mining_df.columns = [['Date'],['Blocks Mined']]\n",
    "# ltc_mining_df.set_index('Date', inplace=True)"
   ]
  },
  {
   "cell_type": "markdown",
   "metadata": {},
   "source": [
    "## LTC Data Table Debugging Cells"
   ]
  },
  {
   "cell_type": "code",
   "execution_count": 2,
   "metadata": {},
   "outputs": [],
   "source": [
    "#ltc_price_df.head(5)"
   ]
  },
  {
   "cell_type": "code",
   "execution_count": 3,
   "metadata": {},
   "outputs": [],
   "source": [
    "#ltc_volume_df.head(5)"
   ]
  },
  {
   "cell_type": "code",
   "execution_count": 4,
   "metadata": {},
   "outputs": [],
   "source": [
    "#ltc_mkt_cap_df.head(5)"
   ]
  },
  {
   "cell_type": "code",
   "execution_count": 5,
   "metadata": {},
   "outputs": [],
   "source": [
    "#ltc_mining_df.head(5)"
   ]
  },
  {
   "cell_type": "markdown",
   "metadata": {},
   "source": [
    "## LTC Data Aggregating & Cleaning"
   ]
  },
  {
   "cell_type": "code",
   "execution_count": null,
   "metadata": {},
   "outputs": [],
   "source": [
    "# # Define all the different data frames into a list\n",
    "# btc_frames = [btc_price_df, btc_volume_df, btc_mkt_cap_df, btc_mining_df]\n",
    "\n",
    "# # Concatenate all the dataframes into one\n",
    "# btc_data = pd.concat(btc_frames, axis=1, join=\"outer\", ignore_index=False)\n",
    "# btc_data\n"
   ]
  },
  {
   "cell_type": "markdown",
   "metadata": {},
   "source": [
    "## ETH API Data Pull"
   ]
  },
  {
   "cell_type": "code",
   "execution_count": null,
   "metadata": {},
   "outputs": [],
   "source": []
  },
  {
   "cell_type": "markdown",
   "metadata": {},
   "source": [
    "## ETH Data Table Debugging Cells"
   ]
  },
  {
   "cell_type": "code",
   "execution_count": null,
   "metadata": {},
   "outputs": [],
   "source": []
  },
  {
   "cell_type": "code",
   "execution_count": null,
   "metadata": {},
   "outputs": [],
   "source": []
  },
  {
   "cell_type": "code",
   "execution_count": null,
   "metadata": {},
   "outputs": [],
   "source": []
  },
  {
   "cell_type": "code",
   "execution_count": null,
   "metadata": {},
   "outputs": [],
   "source": []
  },
  {
   "cell_type": "markdown",
   "metadata": {},
   "source": [
    "## ETH Data Aggregating & Cleaning"
   ]
  },
  {
   "cell_type": "code",
   "execution_count": null,
   "metadata": {},
   "outputs": [],
   "source": []
  },
  {
   "cell_type": "markdown",
   "metadata": {},
   "source": [
    "## Data Combination\n",
    "---\n",
    "### Price\n",
    "### Volume\n",
    "### Mkt Cap\n",
    "### Addresses (All into 1 Table)\n",
    "### Mining\n",
    "### Supply"
   ]
  },
  {
   "cell_type": "code",
   "execution_count": null,
   "metadata": {},
   "outputs": [],
   "source": []
  }
 ],
 "metadata": {
  "kernelspec": {
   "display_name": "Python 3",
   "language": "python",
   "name": "python3"
  },
  "language_info": {
   "codemirror_mode": {
    "name": "ipython",
    "version": 3
   },
   "file_extension": ".py",
   "mimetype": "text/x-python",
   "name": "python",
   "nbconvert_exporter": "python",
   "pygments_lexer": "ipython3",
   "version": "3.7.9"
  }
 },
 "nbformat": 4,
 "nbformat_minor": 5
}
